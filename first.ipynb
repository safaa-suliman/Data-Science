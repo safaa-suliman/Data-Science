import numpy as np
import pandas as pd
import matplotlib.pyplot as plt
from sklearn.linear_model import LinearRegression
from sklearn.model_selection import train_test_split
from sklearn.metrics import r2_score, mean_squared_error
# import AllTogether as t
# import seaborn as sns
%matplotlib inline
# df = pd.read_csv("your_csv_file.csv", delimiter="\t")
df = pd.read_csv('listings.csv')
df.head()


rows = len(df.axes[0])
cols = len(df.axes[1])
  
# Print the number of rows and columns
print("Number of Rows: " + str(rows))
print("Number of Columns: " + str(cols))
print(df.columns)
