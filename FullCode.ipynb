{
  "cells": [
    {
      "cell_type": "code",
      "execution_count": 1,
      "metadata": {
        "id": "33MPdbqZusKV"
      },
      "outputs": [],
      "source": [
        "import pandas as pd\n",
        "from sklearn.model_selection import train_test_split\n",
        "from sklearn.ensemble import RandomForestClassifier\n",
        "from sklearn.metrics import accuracy_score, f1_score, precision_score, recall_score, confusion_matrix\n",
        "from transformers import BertTokenizer, BertModel\n",
        "import torch\n",
        "#import fasttext\n",
        "from sklearn.svm import SVC  # Import the SVM classifier\n",
        "from urllib.parse import urlparse\n",
        "import re  # Import the 're' module for regular expressions\n",
        "import seaborn as sns\n",
        "import matplotlib.pyplot as plt\n",
        "from sklearn.preprocessing import LabelEncoder\n",
        "import torch.nn as nn\n",
        "\n"
      ]
    },
    {
      "cell_type": "code",
      "execution_count": 2,
      "metadata": {
        "colab": {
          "base_uri": "https://localhost:8080/"
        },
        "id": "selOP4_Dk8N6",
        "outputId": "2e0ba360-54ec-4952-d6cf-df8258a41d09"
      },
      "outputs": [
        {
          "output_type": "stream",
          "name": "stdout",
          "text": [
            "Requirement already satisfied: transformers in /usr/local/lib/python3.10/dist-packages (4.33.2)\n",
            "Requirement already satisfied: filelock in /usr/local/lib/python3.10/dist-packages (from transformers) (3.12.2)\n",
            "Requirement already satisfied: huggingface-hub<1.0,>=0.15.1 in /usr/local/lib/python3.10/dist-packages (from transformers) (0.17.2)\n",
            "Requirement already satisfied: numpy>=1.17 in /usr/local/lib/python3.10/dist-packages (from transformers) (1.23.5)\n",
            "Requirement already satisfied: packaging>=20.0 in /usr/local/lib/python3.10/dist-packages (from transformers) (23.1)\n",
            "Requirement already satisfied: pyyaml>=5.1 in /usr/local/lib/python3.10/dist-packages (from transformers) (6.0.1)\n",
            "Requirement already satisfied: regex!=2019.12.17 in /usr/local/lib/python3.10/dist-packages (from transformers) (2023.6.3)\n",
            "Requirement already satisfied: requests in /usr/local/lib/python3.10/dist-packages (from transformers) (2.31.0)\n",
            "Requirement already satisfied: tokenizers!=0.11.3,<0.14,>=0.11.1 in /usr/local/lib/python3.10/dist-packages (from transformers) (0.13.3)\n",
            "Requirement already satisfied: safetensors>=0.3.1 in /usr/local/lib/python3.10/dist-packages (from transformers) (0.3.3)\n",
            "Requirement already satisfied: tqdm>=4.27 in /usr/local/lib/python3.10/dist-packages (from transformers) (4.66.1)\n",
            "Requirement already satisfied: fsspec in /usr/local/lib/python3.10/dist-packages (from huggingface-hub<1.0,>=0.15.1->transformers) (2023.6.0)\n",
            "Requirement already satisfied: typing-extensions>=3.7.4.3 in /usr/local/lib/python3.10/dist-packages (from huggingface-hub<1.0,>=0.15.1->transformers) (4.5.0)\n",
            "Requirement already satisfied: charset-normalizer<4,>=2 in /usr/local/lib/python3.10/dist-packages (from requests->transformers) (3.2.0)\n",
            "Requirement already satisfied: idna<4,>=2.5 in /usr/local/lib/python3.10/dist-packages (from requests->transformers) (3.4)\n",
            "Requirement already satisfied: urllib3<3,>=1.21.1 in /usr/local/lib/python3.10/dist-packages (from requests->transformers) (2.0.4)\n",
            "Requirement already satisfied: certifi>=2017.4.17 in /usr/local/lib/python3.10/dist-packages (from requests->transformers) (2023.7.22)\n"
          ]
        }
      ],
      "source": [
        "pip install transformers"
      ]
    },
    {
      "cell_type": "code",
      "execution_count": 3,
      "metadata": {
        "id": "8KrVB4MzuzX_"
      },
      "outputs": [],
      "source": [
        "# Step 1: Data Preparation\n",
        "data = pd.read_csv('phishing_site_urls.csv')\n"
      ]
    },
    {
      "cell_type": "code",
      "execution_count": 4,
      "metadata": {
        "id": "S_rn3Ykiu0N1"
      },
      "outputs": [],
      "source": [
        "\n",
        "# Remove duplicated records\n",
        "data = data.drop_duplicates()"
      ]
    },
    {
      "cell_type": "code",
      "execution_count": 5,
      "metadata": {
        "id": "37m9B_SZu2j-"
      },
      "outputs": [],
      "source": [
        "\n",
        "# Remove records with Null columns\n",
        "data = data.dropna()"
      ]
    },
    {
      "cell_type": "code",
      "source": [
        "\n",
        "# Label is the column that indicates bad or good URLs\n",
        "label_counts = data['Label'].value_counts()\n"
      ],
      "metadata": {
        "id": "Q8B0VhU-_rRP"
      },
      "execution_count": 6,
      "outputs": []
    },
    {
      "cell_type": "code",
      "source": [
        "plt.bar(label_counts.index, label_counts.values)\n",
        "plt.xlabel('Label')\n",
        "plt.ylabel('Count')\n",
        "plt.title('Distribution of Bad and Good URLs')\n",
        "plt.xticks(rotation=45)\n",
        "plt.show()"
      ],
      "metadata": {
        "colab": {
          "base_uri": "https://localhost:8080/",
          "height": 492
        },
        "id": "4ANFa_xA_txQ",
        "outputId": "2e3d8e8e-aeb1-4a50-bb68-d7c8a97cb25f"
      },
      "execution_count": 7,
      "outputs": [
        {
          "output_type": "display_data",
          "data": {
            "text/plain": [
              "<Figure size 640x480 with 1 Axes>"
            ],
            "image/png": "[encoded data removed]"
          },
          "metadata": {}
        }
      ]
    },
    {
      "cell_type": "code",
      "execution_count": 8,
      "metadata": {
        "id": "lMXdqnviu541"
      },
      "outputs": [],
      "source": [
        "\n",
        "# Extract the netloc (domain)\n",
        "data['Domain'] = data['URL'].apply(lambda x: urlparse(x).netloc)\n"
      ]
    },
    {
      "cell_type": "code",
      "execution_count": 9,
      "metadata": {
        "colab": {
          "base_uri": "https://localhost:8080/"
        },
        "id": "A4UvHSTCvBQn",
        "outputId": "2200e774-16e0-4a5b-b064-e80e971e4a4e"
      },
      "outputs": [
        {
          "output_type": "stream",
          "name": "stderr",
          "text": [
            "<ipython-input-9-56ee7aff785c>:2: FutureWarning: The default value of regex will change from True to False in a future version.\n",
            "  data['Cleaned_URL'] = data['URL'].str.replace('[^a-zA-Z0-9\\s]', '')\n"
          ]
        }
      ],
      "source": [
        "\n",
        "# Remove noise (e.g., special characters)\n",
        "data['Cleaned_URL'] = data['URL'].str.replace('[^a-zA-Z0-9\\s]', '')\n"
      ]
    },
    {
      "cell_type": "code",
      "execution_count": 10,
      "metadata": {
        "id": "sS8mzYGNvFR5"
      },
      "outputs": [],
      "source": [
        "# Step 2: Feature Extraction with BERT\n",
        "tokenizer = BertTokenizer.from_pretrained('bert-base-uncased')\n",
        "bert_model = BertModel.from_pretrained('bert-base-uncased')\n",
        "max_seq_length = 128"
      ]
    },
    {
      "cell_type": "code",
      "execution_count": 11,
      "metadata": {
        "id": "iUj2rXhdvJVV"
      },
      "outputs": [],
      "source": [
        "tokenized_texts = [tokenizer(text, padding='max_length', truncation=True, max_length=max_seq_length, return_tensors='pt') for text in data['Cleaned_URL']]\n",
        "input_ids = torch.cat([text['input_ids'] for text in tokenized_texts], dim=0)\n",
        "attention_mask = torch.cat([text['attention_mask'] for text in tokenized_texts], dim=0)"
      ]
    },
    {
      "cell_type": "code",
      "execution_count": 12,
      "metadata": {
        "id": "4OfogHnSvLzZ"
      },
      "outputs": [],
      "source": [
        "# Step 3: Train Random Forest Classifier\n",
        "X = input_ids.numpy()\n",
        "y = data['Label'].values"
      ]
    },
    {
      "cell_type": "code",
      "execution_count": 13,
      "metadata": {
        "id": "FQUCiI5mvQkL"
      },
      "outputs": [],
      "source": [
        "X_train, X_test, y_train, y_test = train_test_split(X, y, test_size=0.2, random_state=42)\n",
        "\n"
      ]
    },
    {
      "cell_type": "code",
      "execution_count": 14,
      "metadata": {
        "colab": {
          "base_uri": "https://localhost:8080/"
        },
        "id": "ldtA5uFzxESG",
        "outputId": "3bbbb566-6197-470c-e025-50ee9cc60d1f"
      },
      "outputs": [
        {
          "output_type": "stream",
          "name": "stdout",
          "text": [
            "Random Forest Classifier Accuracy: 0.88\n"
          ]
        }
      ],
      "source": [
        "rf_classifier = RandomForestClassifier(n_estimators=100, random_state=42)\n",
        "rf_classifier.fit(X_train, y_train)\n",
        "\n",
        "rf_predictions = rf_classifier.predict(X_test)\n",
        "\n",
        "rf_accuracy = accuracy_score(y_test, rf_predictions)\n",
        "print(f\"Random Forest Classifier Accuracy: {rf_accuracy:.2f}\")"
      ]
    },
    {
      "cell_type": "code",
      "execution_count": 15,
      "metadata": {
        "id": "omVAWTskI-XP"
      },
      "outputs": [],
      "source": [
        "\n",
        "\n",
        "# Assuming 'y_test' contains labels like 'bad' and 'good'\n",
        "label_encoder = LabelEncoder()\n",
        "y_test_encoded = label_encoder.fit_transform(y_test)  # Encode 'bad' as 0 and 'good' as 1\n",
        "\n",
        "# Now, you can use 'y_test_encoded' for evaluation\n"
      ]
    },
    {
      "cell_type": "code",
      "execution_count": 16,
      "metadata": {
        "colab": {
          "base_uri": "https://localhost:8080/",
          "height": 564
        },
        "id": "0fS0V77DGMgy",
        "outputId": "83f501ec-8abc-42ec-a8c8-369e9b6f21ba"
      },
      "outputs": [
        {
          "output_type": "stream",
          "name": "stdout",
          "text": [
            "Random Forest Classifier Metrics:\n",
            "Accuracy: 0.88\n",
            "F1-Score: 0.93\n",
            "Precision: 0.88\n",
            "Recall: 0.98\n"
          ]
        },
        {
          "output_type": "display_data",
          "data": {
            "text/plain": [
              "<Figure size 640x480 with 2 Axes>"
            ],
            "image/png": "[encoded data removed]"
          },
          "metadata": {}
        }
      ],
      "source": [
        "\n",
        "\n",
        "#  'y_test' contains labels like 'bad' and 'good'\n",
        "label_encoder = LabelEncoder()\n",
        "y_test_encoded = label_encoder.fit_transform(y_test)  # Encode 'bad' as 0 and 'good' as 1\n",
        "\n",
        "# Encode 'rf_predictions' as numerical labels\n",
        "rf_predictions_encoded = label_encoder.transform(rf_predictions)\n",
        "\n",
        "# Now, you can use 'y_test_encoded' and 'rf_predictions_encoded' for evaluation\n",
        "from sklearn.metrics import accuracy_score, f1_score, precision_score, recall_score, confusion_matrix\n",
        "\n",
        "# Evaluate Random Forest Classifier\n",
        "rf_accuracy = accuracy_score(y_test_encoded, rf_predictions_encoded)\n",
        "rf_f1_score = f1_score(y_test_encoded, rf_predictions_encoded)\n",
        "rf_precision = precision_score(y_test_encoded, rf_predictions_encoded)\n",
        "rf_recall = recall_score(y_test_encoded, rf_predictions_encoded)\n",
        "\n",
        "print(\"Random Forest Classifier Metrics:\")\n",
        "print(f\"Accuracy: {rf_accuracy:.2f}\")\n",
        "print(f\"F1-Score: {rf_f1_score:.2f}\")\n",
        "print(f\"Precision: {rf_precision:.2f}\")\n",
        "print(f\"Recall: {rf_recall:.2f}\")\n",
        "\n",
        "# Confusion matrix for Random Forest Classifier\n",
        "rf_cm = confusion_matrix(y_test_encoded, rf_predictions_encoded)\n",
        "sns.heatmap(rf_cm, annot=True, cmap=\"Blues\", fmt=\"d\")\n",
        "plt.xlabel(\"Predicted\")\n",
        "plt.ylabel(\"True\")\n",
        "plt.title(\"Confusion Matrix for Random Forest Classifier\")\n",
        "plt.show()\n"
      ]
    },
    {
      "cell_type": "markdown",
      "metadata": {
        "id": "7a8oaHfAP5gj"
      },
      "source": [
        "The metrics are evaluation results for  Random Forest Classifier. here interpret each of them:\n",
        "\n",
        "1. **Accuracy:** Accuracy measures the overall correctness of  classifier. Random Forest Classifier achieved an accuracy of 0.88, which means that it correctly classified approximately 88% of the examples in test dataset.\n",
        "\n",
        "2. **F1-Score:** The F1-Score is the harmonic mean of precision and recall. It is a measure of a model's accuracy on a dataset. A high F1-Score indicates both good precision and good recall. In our case, the F1-Score is 0.93, which is quite high. This suggests that  classifier performs well in terms of both precision and recall.\n",
        "\n",
        "3. **Precision:** Precision measures how many of the positively predicted instances were actually positive. A precision of 0.88 means that when  classifier predicted an example as \"bad,\" it was correct 88% of the time.\n",
        "\n",
        "4. **Recall:** Recall, also known as sensitivity or true positive rate, measures how many of the actual positive instances were correctly predicted as positive. A recall of 0.98 indicates that  classifier correctly identified 98% of the actual \"bad\" instances.\n",
        "\n",
        "In summary,  Random Forest Classifier appears to be performing quite well. It has a high accuracy, indicating that it correctly classifies a large portion of the data. The high F1-Score suggests that it balances precision and recall effectively, and the high recall indicates that it's good at identifying the positive class (in this case, \"bad\" URLs). However, it's always essential to consider the specific problem and the trade-offs between precision and recall that might be required for application."
      ]
    },
    {
      "cell_type": "code",
      "execution_count": 17,
      "metadata": {
        "id": "L8shDgH8XOtO"
      },
      "outputs": [],
      "source": [
        "\n",
        "# Step 3: Train SVM Classifier\n",
        "X = input_ids.numpy()\n",
        "y = data['Label'].values\n",
        "\n",
        "X_train, X_test, y_train, y_test = train_test_split(X, y, test_size=0.2, random_state=42)\n"
      ]
    },
    {
      "cell_type": "code",
      "execution_count": null,
      "metadata": {
        "id": "5rwGhKUzXWWc"
      },
      "outputs": [],
      "source": [
        "\n",
        "# Initialize and train the SVM classifier\n",
        "svm_classifier = SVC(kernel='linear', random_state=42)\n",
        "svm_classifier.fit(X_train, y_train)\n"
      ]
    },
    {
      "cell_type": "code",
      "execution_count": null,
      "metadata": {
        "id": "zbwen54bXa_g"
      },
      "outputs": [],
      "source": [
        "\n",
        "# Make predictions on the test data\n",
        "svm_predictions = svm_classifier.predict(X_test)\n",
        "\n",
        "# Convert the test labels to numerical values if needed\n",
        "label_encoder = LabelEncoder()\n",
        "y_test_encoded = label_encoder.fit_transform(y_test)  # Encode 'bad' as 0 and 'good' as 1\n",
        "\n",
        "# Encode 'svm_predictions' as numerical labels\n",
        "svm_predictions_encoded = label_encoder.transform(svm_predictions)\n"
      ]
    },
    {
      "cell_type": "code",
      "execution_count": null,
      "metadata": {
        "id": "L893zCwsXpML"
      },
      "outputs": [],
      "source": [
        "\n",
        "# Step 4: Evaluation\n",
        "from sklearn.metrics import accuracy_score, f1_score, precision_score, recall_score, confusion_matrix\n",
        "\n",
        "# Evaluate SVM Classifier\n",
        "svm_accuracy = accuracy_score(y_test_encoded, svm_predictions_encoded)\n",
        "svm_f1_score = f1_score(y_test_encoded, svm_predictions_encoded)\n",
        "svm_precision = precision_score(y_test_encoded, svm_predictions_encoded)\n",
        "svm_recall = recall_score(y_test_encoded, svm_predictions_encoded)\n",
        "\n",
        "print(\"SVM Classifier Metrics:\")\n",
        "print(f\"Accuracy: {svm_accuracy:.2f}\")\n",
        "print(f\"F1-Score: {svm_f1_score:.2f}\")\n",
        "print(f\"Precision: {svm_precision:.2f}\")\n",
        "print(f\"Recall: {svm_recall:.2f}\")\n"
      ]
    },
    {
      "cell_type": "code",
      "execution_count": null,
      "metadata": {
        "id": "xAYKlpazXt8p"
      },
      "outputs": [],
      "source": [
        "\n",
        "# Confusion matrix for SVM Classifier\n",
        "svm_cm = confusion_matrix(y_test_encoded, svm_predictions_encoded)\n",
        "sns.heatmap(svm_cm, annot=True, cmap=\"Blues\", fmt=\"d\")\n",
        "plt.xlabel(\"Predicted\")\n",
        "plt.ylabel(\"True\")\n",
        "plt.title(\"Confusion Matrix for SVM Classifier\")\n",
        "plt.show()\n"
      ]
    },
    {
      "cell_type": "code",
      "execution_count": null,
      "metadata": {
        "id": "ZMujsmBJtw5k"
      },
      "outputs": [],
      "source": [
        "# Step 4: Encode labels using LabelEncoder\n",
        "label_encoder = LabelEncoder()\n",
        "y_train_encoded = label_encoder.fit_transform(y_train)\n",
        "y_test_encoded = label_encoder.transform(y_test)\n"
      ]
    },
    {
      "cell_type": "code",
      "execution_count": null,
      "metadata": {
        "id": "4bGFo2oTt16N"
      },
      "outputs": [],
      "source": [
        "# Step 5: Create DataLoader for training\n",
        "batch_size = 32\n",
        "train_dataset = TensorDataset(torch.tensor(X_train), attention_mask[:len(X_train)], torch.tensor(y_train_encoded))\n",
        "train_dataloader = DataLoader(train_dataset, batch_size=batch_size, shuffle=True)\n"
      ]
    },
    {
      "cell_type": "code",
      "execution_count": null,
      "metadata": {
        "id": "wRRxBcnSt71n"
      },
      "outputs": [],
      "source": [
        "\n",
        "\n",
        "class CNNModel(nn.Module):\n",
        "    def __init__(self):\n",
        "        super(CNNModel, self).__init__()\n",
        "        self.bert_model = bert_model\n",
        "        self.conv1 = nn.Conv2d(1, 128, (3, self.bert_model.config.hidden_size))\n",
        "        self.max_pool = nn.MaxPool2d((2, 2))  # Adjust max-pooling size\n",
        "        self.fc1 = nn.Linear(128, 2)  # 2 output classes (binary classification)\n",
        "\n",
        "    def forward(self, input_ids, attention_mask):\n",
        "        outputs = self.bert_model(input_ids, attention_mask=attention_mask)\n",
        "        pooled_output = outputs['pooler_output']\n",
        "        x = pooled_output.unsqueeze(1)\n",
        "        x = self.conv1(x)\n",
        "        x = x.squeeze(3)\n",
        "        x = nn.functional.relu(x)\n",
        "        x = self.max_pool(x)\n",
        "        x = x.squeeze(2)\n",
        "        x = self.fc1(x)\n",
        "        return x\n",
        "\n",
        "# Initialize the CNN model\n",
        "cnn_model = CNNModel()\n",
        "\n",
        "# Define loss function and optimizer\n",
        "criterion = nn.CrossEntropyLoss()\n",
        "optimizer = optim.AdamW(cnn_model.parameters(), lr=2e-5)\n"
      ]
    },
    {
      "cell_type": "code",
      "execution_count": null,
      "metadata": {
        "id": "Cmsj0Cf4SyNP"
      },
      "outputs": [],
      "source": [
        "\n",
        "# Train the CNN model\n",
        "num_epochs = 5\n",
        "for epoch in range(num_epochs):\n",
        "    cnn_model.train()\n",
        "    total_loss = 0.0\n",
        "\n",
        "    for batch in train_dataloader:\n",
        "        input_ids_batch, attention_mask_batch, labels_batch = batch\n",
        "        optimizer.zero_grad()\n",
        "\n",
        "        # Ensure input_ids_batch and attention_mask_batch are of data type torch.long\n",
        "        input_ids_batch = input_ids_batch.long()\n",
        "        attention_mask_batch = attention_mask_batch.long()\n",
        "\n",
        "        outputs = cnn_model(input_ids_batch, attention_mask_batch)\n",
        "        loss = criterion(outputs, labels_batch)\n",
        "        loss.backward()\n",
        "        optimizer.step()\n",
        "        total_loss += loss.item()\n",
        "\n",
        "    print(f\"Epoch {epoch + 1}/{num_epochs}, Loss: {total_loss:.4f}\")\n"
      ]
    },
    {
      "cell_type": "code",
      "execution_count": null,
      "metadata": {
        "id": "4LPxIbAuuGow"
      },
      "outputs": [],
      "source": [
        "# Step 7: Evaluate the CNN Model\n",
        "cnn_model.eval()\n",
        "with torch.no_grad():\n",
        "    test_outputs = cnn_model(torch.tensor(X_test), attention_mask[:len(X_test)])\n",
        "    _, predicted = torch.max(test_outputs, 1)\n",
        "    predicted = predicted.cpu().numpy()\n",
        "\n",
        "# Calculate evaluation metrics for CNN\n",
        "cnn_accuracy = accuracy_score(y_test_encoded, predicted)\n",
        "cnn_f1_score = f1_score(y_test_encoded, predicted)\n",
        "\n",
        "print(\"CNN Model Metrics:\")\n",
        "print(f\"Accuracy: {cnn_accuracy:.2f}\")\n",
        "print(f\"F1-Score: {cnn_f1_score:.2f}\")\n",
        "\n",
        "# Confusion matrix for CNN Model\n",
        "cnn_cm = confusion_matrix(y_test_encoded, predicted)\n",
        "sns.heatmap(cnn_cm, annot=True, cmap=\"Blues\", fmt=\"d\")\n",
        "plt.xlabel(\"Predicted\")\n",
        "plt.ylabel(\"True\")\n",
        "plt.title(\"Confusion Matrix for CNN Model\")\n",
        "plt.show()\n"
      ]
    },
    {
      "cell_type": "code",
      "execution_count": null,
      "metadata": {
        "id": "qhR9zwCfruXZ"
      },
      "outputs": [],
      "source": [
        "# Step 5: Evaluate the CNN Model\n",
        "cnn_model.eval()\n",
        "with torch.no_grad():\n",
        "    test_outputs = cnn_model(torch.tensor(X_test), attention_mask[:len(X_test)])\n",
        "    _, predicted = torch.max(test_outputs, 1)\n",
        "    y_test = y_test_encoded  # Already encoded\n",
        "    predicted = predicted.cpu().numpy()\n",
        "\n",
        "# Calculate evaluation metrics\n",
        "cnn_accuracy = accuracy_score(y_test, predicted)\n",
        "cnn_f1_score = f1_score(y_test, predicted)\n",
        "cnn_precision = precision_score(y_test, predicted)\n",
        "cnn_recall = recall_score(y_test, predicted)\n",
        "\n",
        "print(\"CNN Model Metrics:\")\n",
        "print(f\"Accuracy: {cnn_accuracy:.2f}\")\n",
        "print(f\"F1-Score: {cnn_f1_score:.2f}\")\n",
        "print(f\"Precision: {cnn_precision:.2f}\")\n",
        "print(f\"Recall: {cnn_recall:.2f}\")\n",
        "\n",
        "# Confusion matrix for CNN Model\n",
        "cnn_cm = confusion_matrix(y_test, predicted)\n",
        "sns.heatmap(cnn_cm, annot=True, cmap=\"Blues\", fmt=\"d\")\n",
        "plt.xlabel(\"Predicted\")\n",
        "plt.ylabel(\"True\")\n",
        "plt.title(\"Confusion Matrix for CNN Model\")\n",
        "plt.show()\n"
      ]
    },
    {
      "cell_type": "code",
      "execution_count": null,
      "metadata": {
        "id": "8mibzjErnvwV"
      },
      "outputs": [],
      "source": []
    },
    {
      "cell_type": "code",
      "execution_count": null,
      "metadata": {
        "id": "p1KiZE7Du-uK"
      },
      "outputs": [],
      "source": [
        "import torch.nn as nn  # Import the nn module from PyTorch\n",
        "\n",
        "# Step 3: Define and Train the CNN Model\n",
        "class CNNModel(nn.Module):\n",
        "    def __init__(self):\n",
        "        super(CNNModel, self).__init__()\n",
        "        self.bert_model = bert_model\n",
        "        self.conv1 = nn.Conv2d(1, 128, (2, self.bert_model.config.hidden_size))\n",
        "        self.fc1 = nn.Linear(128, 2)  # 2 output classes (binary classification)\n",
        "\n",
        "    def forward(self, input_ids, attention_mask):\n",
        "        outputs = self.bert_model(input_ids, attention_mask=attention_mask)\n",
        "        pooled_output = outputs['pooler_output']  # Extract pooled output from BERT\n",
        "        x = pooled_output.unsqueeze(1)  # Add a channel dimension for CNN\n",
        "        x = self.conv1(x)\n",
        "        x = x.squeeze(3)\n",
        "        x = nn.functional.relu(x)\n",
        "        x = nn.functional.max_pool1d(x, x.size(2))\n",
        "        x = x.squeeze(2)\n",
        "        x = self.fc1(x)\n",
        "        return x\n",
        "\n"
      ]
    },
    {
      "cell_type": "code",
      "execution_count": null,
      "metadata": {
        "id": "IjqExN5BS_hR"
      },
      "outputs": [],
      "source": [
        "# Initialize the CNN model\n",
        "cnn_model = CNNModel()\n"
      ]
    },
    {
      "cell_type": "code",
      "execution_count": null,
      "metadata": {
        "id": "gOehNdzQTE0N"
      },
      "outputs": [],
      "source": [
        "import torch.optim as optim  # Import the optim module from PyTorch\n",
        "\n",
        "# Define loss function and optimizer\n",
        "criterion = nn.CrossEntropyLoss()\n",
        "optimizer = optim.AdamW(cnn_model.parameters(), lr=2e-5)\n"
      ]
    },
    {
      "cell_type": "code",
      "execution_count": null,
      "metadata": {
        "id": "Ks_PoXeSmvcm"
      },
      "outputs": [],
      "source": [
        "# Train the CNN model\n",
        "num_epochs = 5\n",
        "for epoch in range(num_epochs):\n",
        "    cnn_model.train()\n",
        "    total_loss = 0.0\n",
        "\n",
        "    for batch in train_dataloader:\n",
        "        input_ids_batch, attention_mask_batch, labels_batch = batch\n",
        "        optimizer.zero_grad()\n",
        "        outputs = cnn_model(input_ids_batch, attention_mask_batch)\n",
        "        loss = criterion(outputs, labels_batch)\n",
        "        loss.backward()\n",
        "        optimizer.step()\n",
        "        total_loss += loss.item()\n",
        "\n",
        "    print(f\"Epoch {epoch+1}/{num_epochs}, Loss: {total_loss:.4f}\")\n",
        "\n",
        "# Rest of your code...\n"
      ]
    },
    {
      "cell_type": "code",
      "execution_count": null,
      "metadata": {
        "id": "cn4ykZtvTJNw"
      },
      "outputs": [],
      "source": [
        "# Train the CNN model\n",
        "num_epochs = 5\n",
        "for epoch in range(num_epochs):\n",
        "    cnn_model.train()\n",
        "    total_loss = 0.0\n",
        "\n",
        "    for batch in train_dataloader:\n",
        "        input_ids_batch, attention_mask_batch, labels_batch = batch\n",
        "        optimizer.zero_grad()\n",
        "        outputs = cnn_model(input_ids_batch, attention_mask_batch)\n",
        "        loss = criterion(outputs, labels_batch)\n",
        "        loss.backward()\n",
        "        optimizer.step()\n",
        "        total_loss += loss.item()"
      ]
    },
    {
      "cell_type": "code",
      "execution_count": null,
      "metadata": {
        "id": "8ggkIHT3S7GK"
      },
      "outputs": [],
      "source": [
        "\n",
        "\n",
        "\n",
        "\n",
        "    # Print the average loss for the epoch\n",
        "    average_loss = total_loss / len(train_dataloader)\n",
        "    print(f\"Epoch {epoch + 1}, Average Loss: {average_loss:.4f}\")\n",
        "\n",
        "\n"
      ]
    },
    {
      "cell_type": "code",
      "execution_count": null,
      "metadata": {
        "id": "oiYBy_B-TOeF"
      },
      "outputs": [],
      "source": [
        "# Step 4: Evaluate the CNN Model\n",
        "cnn_model.eval()\n",
        "with torch.no_grad():\n",
        "    test_outputs = cnn_model(X_test, attention_mask[:len(X_test)])\n",
        "    _, predicted = torch.max(test_outputs, 1)\n",
        "    y_test = y_test.cpu().numpy()\n",
        "    predicted = predicted.cpu().numpy()\n",
        "\n"
      ]
    },
    {
      "cell_type": "code",
      "execution_count": null,
      "metadata": {
        "id": "h7QbffOTTRBN"
      },
      "outputs": [],
      "source": [
        "# Calculate evaluation metrics\n",
        "cnn_accuracy = accuracy_score(y_test, predicted)\n",
        "cnn_f1_score = f1_score(y_test, predicted)\n",
        "cnn_precision = precision_score(y_test, predicted)\n",
        "cnn_recall = recall_score(y_test, predicted)\n",
        "\n",
        "print(\"CNN Model Metrics:\")\n",
        "print(f\"Accuracy: {cnn_accuracy:.2f}\")\n",
        "print(f\"F1-Score: {cnn_f1_score:.2f}\")\n",
        "print(f\"Precision: {cnn_precision:.2f}\")\n",
        "print(f\"Recall: {cnn_recall:.2f}\")\n",
        "\n"
      ]
    },
    {
      "cell_type": "code",
      "execution_count": null,
      "metadata": {
        "id": "4irCVUV1TT0i"
      },
      "outputs": [],
      "source": [
        "# Confusion matrix for CNN Model\n",
        "cnn_cm = confusion_matrix(y_test, predicted)\n",
        "sns.heatmap(cnn_cm, annot=True, cmap=\"Blues\", fmt=\"d\")\n",
        "plt.xlabel(\"Predicted\")\n",
        "plt.ylabel(\"True\")\n",
        "plt.title(\"Confusion Matrix for CNN Model\")\n",
        "plt.show()"
      ]
    },
    {
      "cell_type": "code",
      "execution_count": null,
      "metadata": {
        "id": "_2d2l_0kMXSR"
      },
      "outputs": [],
      "source": [
        "from sklearn.svm import SVC\n",
        "\n",
        "# Create an SVM classifier\n",
        "svm_classifier = SVC(kernel='linear', C=1.0)\n",
        "\n"
      ]
    },
    {
      "cell_type": "markdown",
      "metadata": {
        "id": "pxp2rNiHaQtL"
      },
      "source": []
    },
    {
      "cell_type": "code",
      "execution_count": null,
      "metadata": {
        "id": "4e2XE8qR6b7C"
      },
      "outputs": [],
      "source": [
        "# Step 4: Clean Text for FastText\n",
        "def clean_text(text):\n",
        "    # Remove non-alphanumeric characters and spaces\n",
        "    text = re.sub(r'[^a-zA-Z0-9\\s]', '', text)\n",
        "    return text\n",
        "\n",
        "data['Cleaned_URL'] = data['URL'].apply(clean_text)\n"
      ]
    },
    {
      "cell_type": "code",
      "execution_count": null,
      "metadata": {
        "id": "0La7f9lV6f49"
      },
      "outputs": [],
      "source": [
        "# Save the preprocessed data to a new CSV file\n",
        "data.to_csv('preprocessed_data.csv', index=False)\n"
      ]
    },
    {
      "cell_type": "code",
      "execution_count": null,
      "metadata": {
        "id": "dryO0KbMAkJy"
      },
      "outputs": [],
      "source": [
        "# Step 5: Train FastText Model\n",
        "train_data = 'preprocessed_data.csv'  # Use the preprocessed data\n"
      ]
    },
    {
      "cell_type": "code",
      "execution_count": null,
      "metadata": {
        "id": "0IkBtsnkAnXg"
      },
      "outputs": [],
      "source": [
        "model = fasttext.train_supervised(input=train_data, epoch=25)\n"
      ]
    },
    {
      "cell_type": "code",
      "execution_count": null,
      "metadata": {
        "id": "iOtjugx5AqXS"
      },
      "outputs": [],
      "source": [
        "# Save the FastText model\n",
        "model.save_model('fasttext_model.bin')"
      ]
    },
    {
      "cell_type": "code",
      "execution_count": null,
      "metadata": {
        "id": "tu7MjR7FAwK-"
      },
      "outputs": [],
      "source": [
        "# Test the FastText model\n",
        "test_data = \"Example text to classify\"\n",
        "predicted_labels = model.predict(test_data)\n",
        "print(f\"FastText Predicted Labels: {predicted_labels}\")"
      ]
    },
    {
      "cell_type": "code",
      "execution_count": null,
      "metadata": {
        "id": "dxp08dTjxNiD"
      },
      "outputs": [],
      "source": [
        "train_data = 'fasttext_train_data.txt'"
      ]
    },
    {
      "cell_type": "code",
      "execution_count": null,
      "metadata": {
        "id": "xp7SfWb0vOpn"
      },
      "outputs": [],
      "source": [
        "from sklearn.metrics import accuracy_score, f1_score, precision_score, recall_score, confusion_matrix\n",
        "import seaborn as sns\n",
        "import matplotlib.pyplot as plt\n",
        "import fasttext\n",
        "\n",
        "\n",
        "# Load the FastText model\n",
        "model = fasttext.load_model('fasttext_model.bin')\n",
        "\n",
        "# Assuming you have true labels for test data\n",
        "true_labels = [1]  # Replace with your actual labels\n",
        "\n",
        "# Make predictions on test data\n",
        "test_data = [\"Example text to classify\"]\n",
        "fasttext_predictions = model.predict(test_data)\n",
        "\n",
        "# Extract the predicted labels from the FastText output\n",
        "predicted_labels = [int(label[0]) for label in fasttext_predictions]\n",
        "\n",
        "# Calculate accuracy\n",
        "accuracy = accuracy_score(true_labels, predicted_labels)\n",
        "\n",
        "# Evaluate FastText Model Metrics\n",
        "print(\"FastText Model Metrics:\")\n",
        "print(f\"Accuracy: {accuracy:.2f}\")\n",
        "\n",
        "# Visualize the Confusion Matrix\n",
        "cm = confusion_matrix(true_labels, predicted_labels)\n",
        "sns.heatmap(cm, annot=True, cmap=\"Blues\", fmt=\"d\")\n",
        "plt.xlabel(\"Predicted\")\n",
        "plt.ylabel(\"True\")\n",
        "plt.title(\"Confusion Matrix for FastText Classifier\")\n",
        "plt.show()\n"
      ]
    }
  ],
  "metadata": {
    "colab": {
      "machine_shape": "hm",
      "provenance": []
    },
    "kernelspec": {
      "display_name": "Python 3",
      "name": "python3"
    },
    "language_info": {
      "name": "python"
    }
  },
  "nbformat": 4,
  "nbformat_minor": 0
}