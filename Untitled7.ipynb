{
  "nbformat": 4,
  "nbformat_minor": 0,
  "metadata": {
    "colab": {
      "provenance": [],
      "machine_shape": "hm",
      "gpuType": "T4"
    },
    "kernelspec": {
      "name": "python3",
      "display_name": "Python 3"
    },
    "language_info": {
      "name": "python"
    },
    "accelerator": "GPU"
  },
  "cells": [
    {
      "cell_type": "code",
      "source": [
        "import pandas as pd\n",
        "from sklearn.model_selection import train_test_split\n",
        "from sklearn.ensemble import RandomForestClassifier\n",
        "from sklearn.metrics import accuracy_score, f1_score, precision_score, recall_score, confusion_matrix\n",
        "from transformers import BertTokenizer, BertModel\n",
        "import torch\n",
        "import fasttext\n",
        "from urllib.parse import urlparse\n",
        "import re  # Import the 're' module for regular expressions\n",
        "import seaborn as sns\n",
        "import matplotlib.pyplot as plt\n",
        "\n",
        "\n"
      ],
      "metadata": {
        "id": "33MPdbqZusKV"
      },
      "execution_count": 2,
      "outputs": []
    },
    {
      "cell_type": "code",
      "source": [
        "# Step 1: Data Preparation\n",
        "data = pd.read_csv('phishing_site_urls.csv')\n"
      ],
      "metadata": {
        "id": "8KrVB4MzuzX_"
      },
      "execution_count": 3,
      "outputs": []
    },
    {
      "cell_type": "code",
      "source": [
        "\n",
        "# Remove duplicated records\n",
        "data = data.drop_duplicates()"
      ],
      "metadata": {
        "id": "S_rn3Ykiu0N1"
      },
      "execution_count": 4,
      "outputs": []
    },
    {
      "cell_type": "code",
      "source": [
        "\n",
        "# Remove records with Null columns\n",
        "data = data.dropna()"
      ],
      "metadata": {
        "id": "37m9B_SZu2j-"
      },
      "execution_count": 5,
      "outputs": []
    },
    {
      "cell_type": "code",
      "source": [
        "\n",
        "# Extract the netloc (domain)\n",
        "data['Domain'] = data['URL'].apply(lambda x: urlparse(x).netloc)\n"
      ],
      "metadata": {
        "id": "lMXdqnviu541"
      },
      "execution_count": 6,
      "outputs": []
    },
    {
      "cell_type": "code",
      "source": [
        "\n",
        "# Remove noise (e.g., special characters)\n",
        "data['Cleaned_URL'] = data['URL'].str.replace('[^a-zA-Z0-9\\s]', '')\n"
      ],
      "metadata": {
        "colab": {
          "base_uri": "https://localhost:8080/"
        },
        "id": "A4UvHSTCvBQn",
        "outputId": "00d90912-2b82-404a-87ea-7c335d578851"
      },
      "execution_count": 7,
      "outputs": [
        {
          "output_type": "stream",
          "name": "stderr",
          "text": [
            "<ipython-input-7-56ee7aff785c>:2: FutureWarning: The default value of regex will change from True to False in a future version.\n",
            "  data['Cleaned_URL'] = data['URL'].str.replace('[^a-zA-Z0-9\\s]', '')\n"
          ]
        }
      ]
    },
    {
      "cell_type": "code",
      "source": [
        "# Step 2: Feature Extraction with BERT\n",
        "tokenizer = BertTokenizer.from_pretrained('bert-base-uncased')\n",
        "bert_model = BertModel.from_pretrained('bert-base-uncased')\n",
        "max_seq_length = 128"
      ],
      "metadata": {
        "id": "sS8mzYGNvFR5"
      },
      "execution_count": 8,
      "outputs": []
    },
    {
      "cell_type": "code",
      "source": [
        "tokenized_texts = [tokenizer(text, padding='max_length', truncation=True, max_length=max_seq_length, return_tensors='pt') for text in data['Cleaned_URL']]\n",
        "input_ids = torch.cat([text['input_ids'] for text in tokenized_texts], dim=0)\n",
        "attention_mask = torch.cat([text['attention_mask'] for text in tokenized_texts], dim=0)"
      ],
      "metadata": {
        "id": "iUj2rXhdvJVV"
      },
      "execution_count": 9,
      "outputs": []
    },
    {
      "cell_type": "code",
      "source": [
        "# Step 3: Train Random Forest Classifier\n",
        "X = input_ids.numpy()\n",
        "y = data['Label'].values"
      ],
      "metadata": {
        "id": "4OfogHnSvLzZ"
      },
      "execution_count": 10,
      "outputs": []
    },
    {
      "cell_type": "code",
      "source": [
        "X_train, X_test, y_train, y_test = train_test_split(X, y, test_size=0.2, random_state=42)\n",
        "\n"
      ],
      "metadata": {
        "id": "FQUCiI5mvQkL"
      },
      "execution_count": 11,
      "outputs": []
    },
    {
      "cell_type": "code",
      "source": [
        "rf_classifier = RandomForestClassifier(n_estimators=100, random_state=42)\n",
        "rf_classifier.fit(X_train, y_train)\n",
        "\n",
        "rf_predictions = rf_classifier.predict(X_test)\n",
        "\n",
        "rf_accuracy = accuracy_score(y_test, rf_predictions)\n",
        "print(f\"Random Forest Classifier Accuracy: {rf_accuracy:.2f}\")"
      ],
      "metadata": {
        "colab": {
          "base_uri": "https://localhost:8080/"
        },
        "id": "ldtA5uFzxESG",
        "outputId": "09df7aaf-a94f-4b35-dd15-c6de9cad779d"
      },
      "execution_count": 12,
      "outputs": [
        {
          "output_type": "stream",
          "name": "stdout",
          "text": [
            "Random Forest Classifier Accuracy: 0.88\n"
          ]
        }
      ]
    },
    {
      "cell_type": "code",
      "source": [
        "from sklearn.preprocessing import LabelEncoder\n",
        "\n",
        "# Assuming 'y_test' contains labels like 'bad' and 'good'\n",
        "label_encoder = LabelEncoder()\n",
        "y_test_encoded = label_encoder.fit_transform(y_test)  # Encode 'bad' as 0 and 'good' as 1\n",
        "\n",
        "# Now, you can use 'y_test_encoded' for evaluation\n"
      ],
      "metadata": {
        "id": "omVAWTskI-XP"
      },
      "execution_count": 13,
      "outputs": []
    },
    {
      "cell_type": "code",
      "source": [
        "from sklearn.preprocessing import LabelEncoder\n",
        "\n",
        "# Assuming 'y_test' contains labels like 'bad' and 'good'\n",
        "label_encoder = LabelEncoder()\n",
        "y_test_encoded = label_encoder.fit_transform(y_test)  # Encode 'bad' as 0 and 'good' as 1\n",
        "\n",
        "# Encode 'rf_predictions' as numerical labels\n",
        "rf_predictions_encoded = label_encoder.transform(rf_predictions)\n",
        "\n",
        "# Now, you can use 'y_test_encoded' and 'rf_predictions_encoded' for evaluation\n",
        "from sklearn.metrics import accuracy_score, f1_score, precision_score, recall_score, confusion_matrix\n",
        "\n",
        "# Evaluate Random Forest Classifier\n",
        "rf_accuracy = accuracy_score(y_test_encoded, rf_predictions_encoded)\n",
        "rf_f1_score = f1_score(y_test_encoded, rf_predictions_encoded)\n",
        "rf_precision = precision_score(y_test_encoded, rf_predictions_encoded)\n",
        "rf_recall = recall_score(y_test_encoded, rf_predictions_encoded)\n",
        "\n",
        "print(\"Random Forest Classifier Metrics:\")\n",
        "print(f\"Accuracy: {rf_accuracy:.2f}\")\n",
        "print(f\"F1-Score: {rf_f1_score:.2f}\")\n",
        "print(f\"Precision: {rf_precision:.2f}\")\n",
        "print(f\"Recall: {rf_recall:.2f}\")\n",
        "\n",
        "# Confusion matrix for Random Forest Classifier\n",
        "rf_cm = confusion_matrix(y_test_encoded, rf_predictions_encoded)\n",
        "sns.heatmap(rf_cm, annot=True, cmap=\"Blues\", fmt=\"d\")\n",
        "plt.xlabel(\"Predicted\")\n",
        "plt.ylabel(\"True\")\n",
        "plt.title(\"Confusion Matrix for Random Forest Classifier\")\n",
        "plt.show()\n"
      ],
      "metadata": {
        "colab": {
          "base_uri": "https://localhost:8080/",
          "height": 559
        },
        "id": "0fS0V77DGMgy",
        "outputId": "2658fd5a-0d2b-4597-bae7-d0872884dfa0"
      },
      "execution_count": 14,
      "outputs": [
        {
          "output_type": "stream",
          "name": "stdout",
          "text": [
            "Random Forest Classifier Metrics:\n",
            "Accuracy: 0.88\n",
            "F1-Score: 0.93\n",
            "Precision: 0.88\n",
            "Recall: 0.98\n"
          ]
        },
        {
          "output_type": "display_data",
          "data": {
            "text/plain": [
              "<Figure size 640x480 with 2 Axes>"
            ],
            "image/png": "[encoded data removed]"
          },
          "metadata": {}
        }
      ]
    },
    {
      "cell_type": "markdown",
      "source": [
        "The metrics are evaluation results for  Random Forest Classifier. here interpret each of them:\n",
        "\n",
        "1. **Accuracy:** Accuracy measures the overall correctness of  classifier. Random Forest Classifier achieved an accuracy of 0.88, which means that it correctly classified approximately 88% of the examples in test dataset.\n",
        "\n",
        "2. **F1-Score:** The F1-Score is the harmonic mean of precision and recall. It is a measure of a model's accuracy on a dataset. A high F1-Score indicates both good precision and good recall. In our case, the F1-Score is 0.93, which is quite high. This suggests that  classifier performs well in terms of both precision and recall.\n",
        "\n",
        "3. **Precision:** Precision measures how many of the positively predicted instances were actually positive. A precision of 0.88 means that when  classifier predicted an example as \"bad,\" it was correct 88% of the time.\n",
        "\n",
        "4. **Recall:** Recall, also known as sensitivity or true positive rate, measures how many of the actual positive instances were correctly predicted as positive. A recall of 0.98 indicates that  classifier correctly identified 98% of the actual \"bad\" instances.\n",
        "\n",
        "In summary,  Random Forest Classifier appears to be performing quite well. It has a high accuracy, indicating that it correctly classifies a large portion of the data. The high F1-Score suggests that it balances precision and recall effectively, and the high recall indicates that it's good at identifying the positive class (in this case, \"bad\" URLs). However, it's always essential to consider the specific problem and the trade-offs between precision and recall that might be required for application."
      ],
      "metadata": {
        "id": "7a8oaHfAP5gj"
      }
    },
    {
      "cell_type": "code",
      "source": [
        "# Step 4: Encode labels using LabelEncoder\n",
        "label_encoder = LabelEncoder()\n",
        "y_train_encoded = label_encoder.fit_transform(y_train)\n",
        "y_test_encoded = label_encoder.transform(y_test)\n"
      ],
      "metadata": {
        "id": "ZMujsmBJtw5k"
      },
      "execution_count": 40,
      "outputs": []
    },
    {
      "cell_type": "code",
      "source": [
        "# Step 5: Create DataLoader for training\n",
        "batch_size = 32\n",
        "train_dataset = TensorDataset(torch.tensor(X_train), attention_mask[:len(X_train)], torch.tensor(y_train_encoded))\n",
        "train_dataloader = DataLoader(train_dataset, batch_size=batch_size, shuffle=True)\n"
      ],
      "metadata": {
        "id": "4bGFo2oTt16N"
      },
      "execution_count": 41,
      "outputs": []
    },
    {
      "cell_type": "code",
      "source": [
        "import torch.nn as nn\n",
        "\n",
        "class CNNModel(nn.Module):\n",
        "    def __init__(self):\n",
        "        super(CNNModel, self).__init__()\n",
        "        self.bert_model = bert_model\n",
        "        self.conv1 = nn.Conv2d(1, 128, (3, self.bert_model.config.hidden_size))\n",
        "        self.max_pool = nn.MaxPool2d((2, 2))  # Adjust max-pooling size\n",
        "        self.fc1 = nn.Linear(128, 2)  # 2 output classes (binary classification)\n",
        "\n",
        "    def forward(self, input_ids, attention_mask):\n",
        "        outputs = self.bert_model(input_ids, attention_mask=attention_mask)\n",
        "        pooled_output = outputs['pooler_output']\n",
        "        x = pooled_output.unsqueeze(1)\n",
        "        x = self.conv1(x)\n",
        "        x = x.squeeze(3)\n",
        "        x = nn.functional.relu(x)\n",
        "        x = self.max_pool(x)\n",
        "        x = x.squeeze(2)\n",
        "        x = self.fc1(x)\n",
        "        return x\n",
        "\n",
        "# Initialize the CNN model\n",
        "cnn_model = CNNModel()\n",
        "\n",
        "# Define loss function and optimizer\n",
        "criterion = nn.CrossEntropyLoss()\n",
        "optimizer = optim.AdamW(cnn_model.parameters(), lr=2e-5)\n"
      ],
      "metadata": {
        "id": "wRRxBcnSt71n"
      },
      "execution_count": 65,
      "outputs": []
    },
    {
      "cell_type": "code",
      "source": [
        "\n",
        "# Train the CNN model\n",
        "num_epochs = 5\n",
        "for epoch in range(num_epochs):\n",
        "    cnn_model.train()\n",
        "    total_loss = 0.0\n",
        "\n",
        "    for batch in train_dataloader:\n",
        "        input_ids_batch, attention_mask_batch, labels_batch = batch\n",
        "        optimizer.zero_grad()\n",
        "\n",
        "        # Ensure input_ids_batch and attention_mask_batch are of data type torch.long\n",
        "        input_ids_batch = input_ids_batch.long()\n",
        "        attention_mask_batch = attention_mask_batch.long()\n",
        "\n",
        "        outputs = cnn_model(input_ids_batch, attention_mask_batch)\n",
        "        loss = criterion(outputs, labels_batch)\n",
        "        loss.backward()\n",
        "        optimizer.step()\n",
        "        total_loss += loss.item()\n",
        "\n",
        "    print(f\"Epoch {epoch + 1}/{num_epochs}, Loss: {total_loss:.4f}\")\n"
      ],
      "metadata": {
        "colab": {
          "base_uri": "https://localhost:8080/",
          "height": 245
        },
        "id": "Cmsj0Cf4SyNP",
        "outputId": "9fa726aa-3f94-42de-c20f-2a7cb3dcfdda"
      },
      "execution_count": 1,
      "outputs": [
        {
          "output_type": "error",
          "ename": "NameError",
          "evalue": "ignored",
          "traceback": [
            "\u001b[0;31m---------------------------------------------------------------------------\u001b[0m",
            "\u001b[0;31mNameError\u001b[0m                                 Traceback (most recent call last)",
            "\u001b[0;32m<ipython-input-1-148d669e7c30>\u001b[0m in \u001b[0;36m<cell line: 3>\u001b[0;34m()\u001b[0m\n\u001b[1;32m      2\u001b[0m \u001b[0mnum_epochs\u001b[0m \u001b[0;34m=\u001b[0m \u001b[0;36m5\u001b[0m\u001b[0;34m\u001b[0m\u001b[0;34m\u001b[0m\u001b[0m\n\u001b[1;32m      3\u001b[0m \u001b[0;32mfor\u001b[0m \u001b[0mepoch\u001b[0m \u001b[0;32min\u001b[0m \u001b[0mrange\u001b[0m\u001b[0;34m(\u001b[0m\u001b[0mnum_epochs\u001b[0m\u001b[0;34m)\u001b[0m\u001b[0;34m:\u001b[0m\u001b[0;34m\u001b[0m\u001b[0;34m\u001b[0m\u001b[0m\n\u001b[0;32m----> 4\u001b[0;31m     \u001b[0mcnn_model\u001b[0m\u001b[0;34m.\u001b[0m\u001b[0mtrain\u001b[0m\u001b[0;34m(\u001b[0m\u001b[0;34m)\u001b[0m\u001b[0;34m\u001b[0m\u001b[0;34m\u001b[0m\u001b[0m\n\u001b[0m\u001b[1;32m      5\u001b[0m     \u001b[0mtotal_loss\u001b[0m \u001b[0;34m=\u001b[0m \u001b[0;36m0.0\u001b[0m\u001b[0;34m\u001b[0m\u001b[0;34m\u001b[0m\u001b[0m\n\u001b[1;32m      6\u001b[0m \u001b[0;34m\u001b[0m\u001b[0m\n",
            "\u001b[0;31mNameError\u001b[0m: name 'cnn_model' is not defined"
          ]
        }
      ]
    },
    {
      "cell_type": "code",
      "source": [
        "# Step 7: Evaluate the CNN Model\n",
        "cnn_model.eval()\n",
        "with torch.no_grad():\n",
        "    test_outputs = cnn_model(torch.tensor(X_test), attention_mask[:len(X_test)])\n",
        "    _, predicted = torch.max(test_outputs, 1)\n",
        "    predicted = predicted.cpu().numpy()\n",
        "\n",
        "# Calculate evaluation metrics for CNN\n",
        "cnn_accuracy = accuracy_score(y_test_encoded, predicted)\n",
        "cnn_f1_score = f1_score(y_test_encoded, predicted)\n",
        "\n",
        "print(\"CNN Model Metrics:\")\n",
        "print(f\"Accuracy: {cnn_accuracy:.2f}\")\n",
        "print(f\"F1-Score: {cnn_f1_score:.2f}\")\n",
        "\n",
        "# Confusion matrix for CNN Model\n",
        "cnn_cm = confusion_matrix(y_test_encoded, predicted)\n",
        "sns.heatmap(cnn_cm, annot=True, cmap=\"Blues\", fmt=\"d\")\n",
        "plt.xlabel(\"Predicted\")\n",
        "plt.ylabel(\"True\")\n",
        "plt.title(\"Confusion Matrix for CNN Model\")\n",
        "plt.show()\n"
      ],
      "metadata": {
        "id": "4LPxIbAuuGow"
      },
      "execution_count": null,
      "outputs": []
    },
    {
      "cell_type": "code",
      "source": [
        "# Step 5: Evaluate the CNN Model\n",
        "cnn_model.eval()\n",
        "with torch.no_grad():\n",
        "    test_outputs = cnn_model(torch.tensor(X_test), attention_mask[:len(X_test)])\n",
        "    _, predicted = torch.max(test_outputs, 1)\n",
        "    y_test = y_test_encoded  # Already encoded\n",
        "    predicted = predicted.cpu().numpy()\n",
        "\n",
        "# Calculate evaluation metrics\n",
        "cnn_accuracy = accuracy_score(y_test, predicted)\n",
        "cnn_f1_score = f1_score(y_test, predicted)\n",
        "cnn_precision = precision_score(y_test, predicted)\n",
        "cnn_recall = recall_score(y_test, predicted)\n",
        "\n",
        "print(\"CNN Model Metrics:\")\n",
        "print(f\"Accuracy: {cnn_accuracy:.2f}\")\n",
        "print(f\"F1-Score: {cnn_f1_score:.2f}\")\n",
        "print(f\"Precision: {cnn_precision:.2f}\")\n",
        "print(f\"Recall: {cnn_recall:.2f}\")\n",
        "\n",
        "# Confusion matrix for CNN Model\n",
        "cnn_cm = confusion_matrix(y_test, predicted)\n",
        "sns.heatmap(cnn_cm, annot=True, cmap=\"Blues\", fmt=\"d\")\n",
        "plt.xlabel(\"Predicted\")\n",
        "plt.ylabel(\"True\")\n",
        "plt.title(\"Confusion Matrix for CNN Model\")\n",
        "plt.show()\n"
      ],
      "metadata": {
        "id": "qhR9zwCfruXZ"
      },
      "execution_count": null,
      "outputs": []
    },
    {
      "cell_type": "code",
      "source": [],
      "metadata": {
        "colab": {
          "base_uri": "https://localhost:8080/",
          "height": 245
        },
        "id": "8mibzjErnvwV",
        "outputId": "32892165-6654-45ac-f318-58e8e9e9b9b5"
      },
      "execution_count": 32,
      "outputs": [
        {
          "output_type": "error",
          "ename": "TypeError",
          "evalue": "ignored",
          "traceback": [
            "\u001b[0;31m---------------------------------------------------------------------------\u001b[0m",
            "\u001b[0;31mTypeError\u001b[0m                                 Traceback (most recent call last)",
            "\u001b[0;32m<ipython-input-32-f2c9c6d421d8>\u001b[0m in \u001b[0;36m<cell line: 3>\u001b[0;34m()\u001b[0m\n\u001b[1;32m      1\u001b[0m \u001b[0;31m# Define and create DataLoader for training\u001b[0m\u001b[0;34m\u001b[0m\u001b[0;34m\u001b[0m\u001b[0m\n\u001b[1;32m      2\u001b[0m \u001b[0mbatch_size\u001b[0m \u001b[0;34m=\u001b[0m \u001b[0;36m32\u001b[0m\u001b[0;34m\u001b[0m\u001b[0;34m\u001b[0m\u001b[0m\n\u001b[0;32m----> 3\u001b[0;31m \u001b[0mtrain_dataset\u001b[0m \u001b[0;34m=\u001b[0m \u001b[0mTensorDataset\u001b[0m\u001b[0;34m(\u001b[0m\u001b[0mtorch\u001b[0m\u001b[0;34m.\u001b[0m\u001b[0mtensor\u001b[0m\u001b[0;34m(\u001b[0m\u001b[0mX_train\u001b[0m\u001b[0;34m)\u001b[0m\u001b[0;34m,\u001b[0m \u001b[0mattention_mask\u001b[0m\u001b[0;34m[\u001b[0m\u001b[0;34m:\u001b[0m\u001b[0mlen\u001b[0m\u001b[0;34m(\u001b[0m\u001b[0mX_train\u001b[0m\u001b[0;34m)\u001b[0m\u001b[0;34m]\u001b[0m\u001b[0;34m,\u001b[0m \u001b[0mtorch\u001b[0m\u001b[0;34m.\u001b[0m\u001b[0mtensor\u001b[0m\u001b[0;34m(\u001b[0m\u001b[0my_train\u001b[0m\u001b[0;34m)\u001b[0m\u001b[0;34m)\u001b[0m\u001b[0;34m\u001b[0m\u001b[0;34m\u001b[0m\u001b[0m\n\u001b[0m\u001b[1;32m      4\u001b[0m \u001b[0mtrain_dataloader\u001b[0m \u001b[0;34m=\u001b[0m \u001b[0mDataLoader\u001b[0m\u001b[0;34m(\u001b[0m\u001b[0mtrain_dataset\u001b[0m\u001b[0;34m,\u001b[0m \u001b[0mbatch_size\u001b[0m\u001b[0;34m=\u001b[0m\u001b[0mbatch_size\u001b[0m\u001b[0;34m,\u001b[0m \u001b[0mshuffle\u001b[0m\u001b[0;34m=\u001b[0m\u001b[0;32mTrue\u001b[0m\u001b[0;34m)\u001b[0m\u001b[0;34m\u001b[0m\u001b[0;34m\u001b[0m\u001b[0m\n",
            "\u001b[0;31mTypeError\u001b[0m: can't convert np.ndarray of type numpy.object_. The only supported types are: float64, float32, float16, complex64, complex128, int64, int32, int16, int8, uint8, and bool."
          ]
        }
      ]
    },
    {
      "cell_type": "code",
      "source": [
        "import torch.nn as nn  # Import the nn module from PyTorch\n",
        "\n",
        "# Step 3: Define and Train the CNN Model\n",
        "class CNNModel(nn.Module):\n",
        "    def __init__(self):\n",
        "        super(CNNModel, self).__init__()\n",
        "        self.bert_model = bert_model\n",
        "        self.conv1 = nn.Conv2d(1, 128, (2, self.bert_model.config.hidden_size))\n",
        "        self.fc1 = nn.Linear(128, 2)  # 2 output classes (binary classification)\n",
        "\n",
        "    def forward(self, input_ids, attention_mask):\n",
        "        outputs = self.bert_model(input_ids, attention_mask=attention_mask)\n",
        "        pooled_output = outputs['pooler_output']  # Extract pooled output from BERT\n",
        "        x = pooled_output.unsqueeze(1)  # Add a channel dimension for CNN\n",
        "        x = self.conv1(x)\n",
        "        x = x.squeeze(3)\n",
        "        x = nn.functional.relu(x)\n",
        "        x = nn.functional.max_pool1d(x, x.size(2))\n",
        "        x = x.squeeze(2)\n",
        "        x = self.fc1(x)\n",
        "        return x\n",
        "\n"
      ],
      "metadata": {
        "id": "p1KiZE7Du-uK"
      },
      "execution_count": 23,
      "outputs": []
    },
    {
      "cell_type": "code",
      "source": [
        "# Initialize the CNN model\n",
        "cnn_model = CNNModel()\n"
      ],
      "metadata": {
        "id": "IjqExN5BS_hR"
      },
      "execution_count": 24,
      "outputs": []
    },
    {
      "cell_type": "code",
      "source": [
        "import torch.optim as optim  # Import the optim module from PyTorch\n",
        "\n",
        "# Define loss function and optimizer\n",
        "criterion = nn.CrossEntropyLoss()\n",
        "optimizer = optim.AdamW(cnn_model.parameters(), lr=2e-5)\n"
      ],
      "metadata": {
        "id": "gOehNdzQTE0N"
      },
      "execution_count": 26,
      "outputs": []
    },
    {
      "cell_type": "code",
      "source": [
        "# Train the CNN model\n",
        "num_epochs = 5\n",
        "for epoch in range(num_epochs):\n",
        "    cnn_model.train()\n",
        "    total_loss = 0.0\n",
        "\n",
        "    for batch in train_dataloader:\n",
        "        input_ids_batch, attention_mask_batch, labels_batch = batch\n",
        "        optimizer.zero_grad()\n",
        "        outputs = cnn_model(input_ids_batch, attention_mask_batch)\n",
        "        loss = criterion(outputs, labels_batch)\n",
        "        loss.backward()\n",
        "        optimizer.step()\n",
        "        total_loss += loss.item()\n",
        "\n",
        "    print(f\"Epoch {epoch+1}/{num_epochs}, Loss: {total_loss:.4f}\")\n",
        "\n",
        "# Rest of your code...\n"
      ],
      "metadata": {
        "colab": {
          "base_uri": "https://localhost:8080/",
          "height": 245
        },
        "id": "Ks_PoXeSmvcm",
        "outputId": "c76a9eb8-4d30-4659-c546-02a79c40434f"
      },
      "execution_count": 31,
      "outputs": [
        {
          "output_type": "error",
          "ename": "NameError",
          "evalue": "ignored",
          "traceback": [
            "\u001b[0;31m---------------------------------------------------------------------------\u001b[0m",
            "\u001b[0;31mNameError\u001b[0m                                 Traceback (most recent call last)",
            "\u001b[0;32m<ipython-input-31-c4a010ecde2f>\u001b[0m in \u001b[0;36m<cell line: 3>\u001b[0;34m()\u001b[0m\n\u001b[1;32m      5\u001b[0m     \u001b[0mtotal_loss\u001b[0m \u001b[0;34m=\u001b[0m \u001b[0;36m0.0\u001b[0m\u001b[0;34m\u001b[0m\u001b[0;34m\u001b[0m\u001b[0m\n\u001b[1;32m      6\u001b[0m \u001b[0;34m\u001b[0m\u001b[0m\n\u001b[0;32m----> 7\u001b[0;31m     \u001b[0;32mfor\u001b[0m \u001b[0mbatch\u001b[0m \u001b[0;32min\u001b[0m \u001b[0mtrain_dataloader\u001b[0m\u001b[0;34m:\u001b[0m\u001b[0;34m\u001b[0m\u001b[0;34m\u001b[0m\u001b[0m\n\u001b[0m\u001b[1;32m      8\u001b[0m         \u001b[0minput_ids_batch\u001b[0m\u001b[0;34m,\u001b[0m \u001b[0mattention_mask_batch\u001b[0m\u001b[0;34m,\u001b[0m \u001b[0mlabels_batch\u001b[0m \u001b[0;34m=\u001b[0m \u001b[0mbatch\u001b[0m\u001b[0;34m\u001b[0m\u001b[0;34m\u001b[0m\u001b[0m\n\u001b[1;32m      9\u001b[0m         \u001b[0moptimizer\u001b[0m\u001b[0;34m.\u001b[0m\u001b[0mzero_grad\u001b[0m\u001b[0;34m(\u001b[0m\u001b[0;34m)\u001b[0m\u001b[0;34m\u001b[0m\u001b[0;34m\u001b[0m\u001b[0m\n",
            "\u001b[0;31mNameError\u001b[0m: name 'train_dataloader' is not defined"
          ]
        }
      ]
    },
    {
      "cell_type": "code",
      "source": [
        "# Train the CNN model\n",
        "num_epochs = 5\n",
        "for epoch in range(num_epochs):\n",
        "    cnn_model.train()\n",
        "    total_loss = 0.0\n",
        "\n",
        "    for batch in train_dataloader:\n",
        "        input_ids_batch, attention_mask_batch, labels_batch = batch\n",
        "        optimizer.zero_grad()\n",
        "        outputs = cnn_model(input_ids_batch, attention_mask_batch)\n",
        "        loss = criterion(outputs, labels_batch)\n",
        "        loss.backward()\n",
        "        optimizer.step()\n",
        "        total_loss += loss.item()"
      ],
      "metadata": {
        "colab": {
          "base_uri": "https://localhost:8080/",
          "height": 245
        },
        "id": "cn4ykZtvTJNw",
        "outputId": "9a73e3bf-8d09-460b-d495-3a774073895d"
      },
      "execution_count": 27,
      "outputs": [
        {
          "output_type": "error",
          "ename": "NameError",
          "evalue": "ignored",
          "traceback": [
            "\u001b[0;31m---------------------------------------------------------------------------\u001b[0m",
            "\u001b[0;31mNameError\u001b[0m                                 Traceback (most recent call last)",
            "\u001b[0;32m<ipython-input-27-3f28f3e6509f>\u001b[0m in \u001b[0;36m<cell line: 3>\u001b[0;34m()\u001b[0m\n\u001b[1;32m      5\u001b[0m     \u001b[0mtotal_loss\u001b[0m \u001b[0;34m=\u001b[0m \u001b[0;36m0.0\u001b[0m\u001b[0;34m\u001b[0m\u001b[0;34m\u001b[0m\u001b[0m\n\u001b[1;32m      6\u001b[0m \u001b[0;34m\u001b[0m\u001b[0m\n\u001b[0;32m----> 7\u001b[0;31m     \u001b[0;32mfor\u001b[0m \u001b[0mbatch\u001b[0m \u001b[0;32min\u001b[0m \u001b[0mtrain_dataloader\u001b[0m\u001b[0;34m:\u001b[0m\u001b[0;34m\u001b[0m\u001b[0;34m\u001b[0m\u001b[0m\n\u001b[0m\u001b[1;32m      8\u001b[0m         \u001b[0minput_ids_batch\u001b[0m\u001b[0;34m,\u001b[0m \u001b[0mattention_mask_batch\u001b[0m\u001b[0;34m,\u001b[0m \u001b[0mlabels_batch\u001b[0m \u001b[0;34m=\u001b[0m \u001b[0mbatch\u001b[0m\u001b[0;34m\u001b[0m\u001b[0;34m\u001b[0m\u001b[0m\n\u001b[1;32m      9\u001b[0m         \u001b[0moptimizer\u001b[0m\u001b[0;34m.\u001b[0m\u001b[0mzero_grad\u001b[0m\u001b[0;34m(\u001b[0m\u001b[0;34m)\u001b[0m\u001b[0;34m\u001b[0m\u001b[0;34m\u001b[0m\u001b[0m\n",
            "\u001b[0;31mNameError\u001b[0m: name 'train_dataloader' is not defined"
          ]
        }
      ]
    },
    {
      "cell_type": "code",
      "source": [
        "\n",
        "\n",
        "\n",
        "\n",
        "    # Print the average loss for the epoch\n",
        "    average_loss = total_loss / len(train_dataloader)\n",
        "    print(f\"Epoch {epoch + 1}, Average Loss: {average_loss:.4f}\")\n",
        "\n",
        "\n"
      ],
      "metadata": {
        "id": "8ggkIHT3S7GK"
      },
      "execution_count": null,
      "outputs": []
    },
    {
      "cell_type": "code",
      "source": [
        "# Step 4: Evaluate the CNN Model\n",
        "cnn_model.eval()\n",
        "with torch.no_grad():\n",
        "    test_outputs = cnn_model(X_test, attention_mask[:len(X_test)])\n",
        "    _, predicted = torch.max(test_outputs, 1)\n",
        "    y_test = y_test.cpu().numpy()\n",
        "    predicted = predicted.cpu().numpy()\n",
        "\n"
      ],
      "metadata": {
        "id": "oiYBy_B-TOeF"
      },
      "execution_count": null,
      "outputs": []
    },
    {
      "cell_type": "code",
      "source": [
        "# Calculate evaluation metrics\n",
        "cnn_accuracy = accuracy_score(y_test, predicted)\n",
        "cnn_f1_score = f1_score(y_test, predicted)\n",
        "cnn_precision = precision_score(y_test, predicted)\n",
        "cnn_recall = recall_score(y_test, predicted)\n",
        "\n",
        "print(\"CNN Model Metrics:\")\n",
        "print(f\"Accuracy: {cnn_accuracy:.2f}\")\n",
        "print(f\"F1-Score: {cnn_f1_score:.2f}\")\n",
        "print(f\"Precision: {cnn_precision:.2f}\")\n",
        "print(f\"Recall: {cnn_recall:.2f}\")\n",
        "\n"
      ],
      "metadata": {
        "id": "h7QbffOTTRBN"
      },
      "execution_count": null,
      "outputs": []
    },
    {
      "cell_type": "code",
      "source": [
        "# Confusion matrix for CNN Model\n",
        "cnn_cm = confusion_matrix(y_test, predicted)\n",
        "sns.heatmap(cnn_cm, annot=True, cmap=\"Blues\", fmt=\"d\")\n",
        "plt.xlabel(\"Predicted\")\n",
        "plt.ylabel(\"True\")\n",
        "plt.title(\"Confusion Matrix for CNN Model\")\n",
        "plt.show()"
      ],
      "metadata": {
        "id": "4irCVUV1TT0i"
      },
      "execution_count": null,
      "outputs": []
    },
    {
      "cell_type": "code",
      "source": [
        "from sklearn.svm import SVC\n",
        "\n",
        "# Create an SVM classifier\n",
        "svm_classifier = SVC(kernel='linear', C=1.0)\n",
        "\n"
      ],
      "metadata": {
        "id": "_2d2l_0kMXSR"
      },
      "execution_count": null,
      "outputs": []
    },
    {
      "cell_type": "markdown",
      "source": [],
      "metadata": {
        "id": "pxp2rNiHaQtL"
      }
    },
    {
      "cell_type": "code",
      "source": [
        "# Train the SVM model\n",
        "#svm_classifier.fit(X_train, y_train)\n"
      ],
      "metadata": {
        "id": "Z59SbCNtRMhL"
      },
      "execution_count": null,
      "outputs": []
    },
    {
      "cell_type": "code",
      "source": [
        "from sklearn.metrics import accuracy_score, f1_score, precision_score, recall_score, confusion_matrix\n",
        "\n",
        "# Predict using the SVM model\n",
        "svm_predictions = svm_classifier.predict(X_test)"
      ],
      "metadata": {
        "id": "0-TDM28KRa2Z"
      },
      "execution_count": null,
      "outputs": []
    },
    {
      "cell_type": "code",
      "source": [
        "\n",
        "# Calculate SVM model metrics\n",
        "svm_accuracy = accuracy_score(y_test, svm_predictions)\n",
        "svm_f1_score = f1_score(y_test, svm_predictions)\n",
        "svm_precision = precision_score(y_test, svm_predictions)\n",
        "svm_recall = recall_score(y_test, svm_predictions)"
      ],
      "metadata": {
        "id": "FtShI9NKRepW"
      },
      "execution_count": null,
      "outputs": []
    },
    {
      "cell_type": "code",
      "source": [
        "# Confusion matrix for SVM\n",
        "svm_cm = confusion_matrix(y_test, svm_predictions)"
      ],
      "metadata": {
        "id": "_AGII964RhiZ"
      },
      "execution_count": null,
      "outputs": []
    },
    {
      "cell_type": "code",
      "source": [
        "# Calculate SVM model metrics\n",
        "svm_accuracy = accuracy_score(y_test, svm_predictions)\n",
        "svm_f1_score = f1_score(y_test, svm_predictions)\n",
        "svm_precision = precision_score(y_test, svm_predictions)\n",
        "svm_recall = recall_score(y_test, svm_predictions)\n",
        "\n",
        "# Visualize SVM results\n",
        "visualize_results(\"SVM\", svm_accuracy, svm_f1_score, svm_precision, svm_recall, y_test, svm_predictions, labels=[\"bad\", \"good\"])\n"
      ],
      "metadata": {
        "id": "RhURU8wcM_OK"
      },
      "execution_count": null,
      "outputs": []
    },
    {
      "cell_type": "code",
      "source": [
        "# Step 4: Clean Text for FastText\n",
        "def clean_text(text):\n",
        "    # Remove non-alphanumeric characters and spaces\n",
        "    text = re.sub(r'[^a-zA-Z0-9\\s]', '', text)\n",
        "    return text\n",
        "\n",
        "data['Cleaned_URL'] = data['URL'].apply(clean_text)\n"
      ],
      "metadata": {
        "id": "4e2XE8qR6b7C"
      },
      "execution_count": null,
      "outputs": []
    },
    {
      "cell_type": "code",
      "source": [
        "# Save the preprocessed data to a new CSV file\n",
        "data.to_csv('preprocessed_data.csv', index=False)\n"
      ],
      "metadata": {
        "id": "0La7f9lV6f49"
      },
      "execution_count": null,
      "outputs": []
    },
    {
      "cell_type": "code",
      "source": [
        "# Step 5: Train FastText Model\n",
        "train_data = 'preprocessed_data.csv'  # Use the preprocessed data\n"
      ],
      "metadata": {
        "id": "dryO0KbMAkJy"
      },
      "execution_count": null,
      "outputs": []
    },
    {
      "cell_type": "code",
      "source": [
        "model = fasttext.train_supervised(input=train_data, epoch=25)\n"
      ],
      "metadata": {
        "id": "0IkBtsnkAnXg"
      },
      "execution_count": null,
      "outputs": []
    },
    {
      "cell_type": "code",
      "source": [
        "# Save the FastText model\n",
        "model.save_model('fasttext_model.bin')"
      ],
      "metadata": {
        "id": "iOtjugx5AqXS"
      },
      "execution_count": null,
      "outputs": []
    },
    {
      "cell_type": "code",
      "source": [
        "# Test the FastText model\n",
        "test_data = \"Example text to classify\"\n",
        "predicted_labels = model.predict(test_data)\n",
        "print(f\"FastText Predicted Labels: {predicted_labels}\")"
      ],
      "metadata": {
        "id": "tu7MjR7FAwK-"
      },
      "execution_count": null,
      "outputs": []
    },
    {
      "cell_type": "code",
      "source": [
        "train_data = 'fasttext_train_data.txt'"
      ],
      "metadata": {
        "id": "dxp08dTjxNiD"
      },
      "execution_count": null,
      "outputs": []
    },
    {
      "cell_type": "code",
      "source": [
        "from sklearn.metrics import accuracy_score, f1_score, precision_score, recall_score, confusion_matrix\n",
        "import seaborn as sns\n",
        "import matplotlib.pyplot as plt\n",
        "import fasttext\n",
        "\n",
        "\n",
        "# Load the FastText model\n",
        "model = fasttext.load_model('fasttext_model.bin')\n",
        "\n",
        "# Assuming you have true labels for test data\n",
        "true_labels = [1]  # Replace with your actual labels\n",
        "\n",
        "# Make predictions on test data\n",
        "test_data = [\"Example text to classify\"]\n",
        "fasttext_predictions = model.predict(test_data)\n",
        "\n",
        "# Extract the predicted labels from the FastText output\n",
        "predicted_labels = [int(label[0]) for label in fasttext_predictions]\n",
        "\n",
        "# Calculate accuracy\n",
        "accuracy = accuracy_score(true_labels, predicted_labels)\n",
        "\n",
        "# Evaluate FastText Model Metrics\n",
        "print(\"FastText Model Metrics:\")\n",
        "print(f\"Accuracy: {accuracy:.2f}\")\n",
        "\n",
        "# Visualize the Confusion Matrix\n",
        "cm = confusion_matrix(true_labels, predicted_labels)\n",
        "sns.heatmap(cm, annot=True, cmap=\"Blues\", fmt=\"d\")\n",
        "plt.xlabel(\"Predicted\")\n",
        "plt.ylabel(\"True\")\n",
        "plt.title(\"Confusion Matrix for FastText Classifier\")\n",
        "plt.show()\n"
      ],
      "metadata": {
        "id": "xp7SfWb0vOpn"
      },
      "execution_count": null,
      "outputs": []
    }
  ]
}